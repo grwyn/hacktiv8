{
 "cells": [
  {
   "cell_type": "code",
   "execution_count": 3,
   "metadata": {},
   "outputs": [
    {
     "name": "stdout",
     "output_type": "stream",
     "text": [
      "8\n"
     ]
    }
   ],
   "source": [
    "# Task #1 - Number of Word\n",
    "\n",
    "def number_of_word(sentence):\n",
    "    x = sentence.split()  \n",
    "    return len(x)\n",
    "\n",
    "# Input: number_of_word(sentence = ’Hello World!’)\n",
    "# Input: number_of_word(sentence = ’Once Upon a Time in a faraway land’)-Output: 84"
   ]
  },
  {
   "cell_type": "code",
   "execution_count": 18,
   "metadata": {},
   "outputs": [
    {
     "name": "stdout",
     "output_type": "stream",
     "text": [
      "[10, 20, 30, 40, 50]\n"
     ]
    }
   ],
   "source": [
    "# Task #2 - Find Multiple\n",
    "\n",
    "def find_multiples(start_range, end_range, multiple):\n",
    "    x = []\n",
    "    for i in range(start_range-1, end_range+1, multiple):\n",
    "        x.append(i)\n",
    "    return x[1:]\n",
    "\n",
    "# Input: find_multiple(start_range= 1, end_range= 20, multiple= 5)\n",
    "# Input: find_multiple(start_range= 1, end_range= 50, multiple= 10)"
   ]
  },
  {
   "cell_type": "code",
   "execution_count": 46,
   "metadata": {},
   "outputs": [
    {
     "name": "stdout",
     "output_type": "stream",
     "text": [
      "['Adam: 2.5', 'Faiz: 4']\n"
     ]
    }
   ],
   "source": [
    "# Task #3 - Grade Converter\n",
    "\n",
    "def Grade_Converter(convert_to, **kwargs):\n",
    "    if convert_to == 'letter_grade':\n",
    "        stud = []\n",
    "        for x,y in kwargs.items(): \n",
    "            if y >= 85 and y <=100:\n",
    "                stud.append(f'{x}: A')\n",
    "            elif y >= 70 and y < 85:\n",
    "                stud.append(f'{x}: B')\n",
    "            elif y >= 60 and y < 70:\n",
    "                stud.append(f'{x}: C')\n",
    "            elif y >= 50 and y < 60:\n",
    "                stud.append(f'{x}: D')\n",
    "            elif y >= 40 and y < 50:\n",
    "                stud.append(f'{x}: E')\n",
    "            elif y < 40:\n",
    "                stud.append(f'{x}: F')\n",
    "        return stud\n",
    "    else:\n",
    "        stud = []\n",
    "        for x,y in kwargs.items(): \n",
    "            if y >= 85 and y <=100:\n",
    "                stud.append(f'{x}: 4')\n",
    "            elif y >= 70 and y < 85:\n",
    "                stud.append(f'{x}: 3')\n",
    "            elif y >= 60 and y < 70:\n",
    "                stud.append(f'{x}: 2.5')\n",
    "            elif y >= 50 and y < 60:\n",
    "                stud.append(f'{x}: 2')\n",
    "            elif y >= 40 and y < 50:\n",
    "                stud.append(f'{x}: 1.5')\n",
    "            elif y < 40:\n",
    "                stud.append(f'{x}: 1')\n",
    "        return stud\n",
    "\n",
    "# Input: Grade_Converter(convert_to='gpa', Adam=62, Faiz=91)\n",
    "# Input: Grade_Converter(convert_to='letter_grade', Albert=90, Dwi=82, Syahdan=58, Veronica=84)"
   ]
  },
  {
   "cell_type": "code",
   "execution_count": 54,
   "metadata": {},
   "outputs": [
    {
     "name": "stdout",
     "output_type": "stream",
     "text": [
      "0\n"
     ]
    }
   ],
   "source": [
    "# Task #4 - Fibonacci Sequence\n",
    "\n",
    "def my_function(n):\n",
    "    x = [0,1]\n",
    "    for i in range(n):\n",
    "        x.append(x[i]+x[i+1])\n",
    "    return x[n]\n",
    "\n",
    "# Input: my_function(n=0)\n",
    "# Input: my_function(n=4)\n",
    "# Input: my_function(n=10)"
   ]
  }
 ],
 "metadata": {
  "kernelspec": {
   "display_name": "base",
   "language": "python",
   "name": "python3"
  },
  "language_info": {
   "codemirror_mode": {
    "name": "ipython",
    "version": 3
   },
   "file_extension": ".py",
   "mimetype": "text/x-python",
   "name": "python",
   "nbconvert_exporter": "python",
   "pygments_lexer": "ipython3",
   "version": "3.12.4"
  }
 },
 "nbformat": 4,
 "nbformat_minor": 2
}
